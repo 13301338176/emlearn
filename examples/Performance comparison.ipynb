{
 "cells": [
  {
   "cell_type": "code",
   "execution_count": 1,
   "metadata": {},
   "outputs": [],
   "source": [
    "%matplotlib inline\n",
    "import sklearn\n",
    "import pandas\n",
    "import numpy\n",
    "import matplotlib.pyplot as plt\n",
    "\n",
    "import os.path\n",
    "import sys\n",
    "import time\n",
    "\n",
    "sys.path.insert(0, '..')\n",
    "import emtrees"
   ]
  },
  {
   "cell_type": "code",
   "execution_count": 2,
   "metadata": {},
   "outputs": [
    {
     "name": "stderr",
     "output_type": "stream",
     "text": [
      "Warning: fit() implicitly converting from float64 to int32\n"
     ]
    },
    {
     "name": "stdout",
     "output_type": "stream",
     "text": [
      "Instances (100000, 6)\n",
      "accuracy 0.94856\n",
      "sklearn: 3.02668833732605 seconds\n"
     ]
    },
    {
     "name": "stderr",
     "output_type": "stream",
     "text": [
      "Warning: predict() implicitly converting from float64 to int32\n"
     ]
    },
    {
     "name": "stdout",
     "output_type": "stream",
     "text": [
      "accuracy 0.94588\n",
      "emtrees: 1.7071821689605713 seconds\n"
     ]
    }
   ],
   "source": [
    "from sklearn import model_selection, metrics, datasets\n",
    "\n",
    "seed = 1\n",
    "    \n",
    "def get_data():\n",
    "    test_size = 0.5\n",
    "\n",
    "    X,Y = datasets.make_classification(n_features=6, n_samples=200000, random_state=seed)\n",
    "    \n",
    "    s = model_selection.train_test_split(X, Y, test_size=test_size, random_state=seed)\n",
    "    X_train, X_test, Y_train, Y_test = s\n",
    "    \n",
    "    return X_train, X_test, Y_train, Y_test\n",
    "\n",
    "\n",
    "metric = 'average_precision'\n",
    "\n",
    "parameters = {\n",
    "    'n_estimators': 100,\n",
    "    'min_samples_split': 0.01,\n",
    "}\n",
    "\n",
    "X_train, X_test, Y_train, Y_test = get_data()\n",
    "\n",
    "sk = sklearn.ensemble.RandomForestClassifier(**parameters)\n",
    "sk.fit(X_train, Y_train)\n",
    "em = emtrees.RandomForest(**parameters)\n",
    "em.fit(X_train, Y_train)\n",
    "\n",
    "print('Instances', X_test.shape)\n",
    "tests = { 'sklearn': sk, 'emtrees': em }\n",
    "for name, estimator in tests.items():\n",
    "    \n",
    "    start = time.time()\n",
    "    pred = estimator.predict(X_test)\n",
    "    end = time.time()\n",
    "    \n",
    "    a = metrics.accuracy_score(Y_test, pred)\n",
    "    print('accuracy', a)\n",
    "    assert a > 0.90\n",
    "    t = end - start\n",
    "    print('{}: {} seconds'.format(name, t))\n"
   ]
  },
  {
   "cell_type": "code",
   "execution_count": 3,
   "metadata": {},
   "outputs": [
    {
     "data": {
      "text/plain": [
       "170.06"
      ]
     },
     "execution_count": 3,
     "metadata": {},
     "output_type": "execute_result"
    }
   ],
   "source": [
    "len(em.forest_[0])/len(em.forest_[1])"
   ]
  },
  {
   "cell_type": "code",
   "execution_count": 4,
   "metadata": {},
   "outputs": [],
   "source": [
    "%load_ext line_profiler\n",
    "def pred():\n",
    "    em.predict(X_test)"
   ]
  },
  {
   "cell_type": "code",
   "execution_count": 5,
   "metadata": {},
   "outputs": [
    {
     "name": "stderr",
     "output_type": "stream",
     "text": [
      "Warning: predict() implicitly converting from float64 to int32\n"
     ]
    }
   ],
   "source": [
    "%lprun -f em.predict pred()"
   ]
  },
  {
   "cell_type": "code",
   "execution_count": null,
   "metadata": {},
   "outputs": [],
   "source": []
  }
 ],
 "metadata": {
  "kernelspec": {
   "display_name": "Python 3",
   "language": "python",
   "name": "python3"
  },
  "language_info": {
   "codemirror_mode": {
    "name": "ipython",
    "version": 3
   },
   "file_extension": ".py",
   "mimetype": "text/x-python",
   "name": "python",
   "nbconvert_exporter": "python",
   "pygments_lexer": "ipython3",
   "version": "3.6.5"
  }
 },
 "nbformat": 4,
 "nbformat_minor": 2
}
